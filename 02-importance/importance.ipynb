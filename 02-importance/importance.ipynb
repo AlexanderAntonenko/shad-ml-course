{
 "cells": [
  {
   "cell_type": "code",
   "execution_count": 134,
   "metadata": {},
   "outputs": [],
   "source": [
    "import pandas as pd\n",
    "import numpy as np\n",
    "from sklearn.metrics import mean_absolute_error\n",
    "from sklearn.model_selection import train_test_split\n",
    "from sklearn.tree import DecisionTreeClassifier\n",
    "from sklearn.impute import SimpleImputer\n",
    "from sklearn.pipeline import make_pipeline\n",
    "\n",
    "# 1. Загрузите выборку из файла titanic.csv с помощью пакета Pandas\n",
    "\n",
    "data = pd.read_csv('titanic.csv')"
   ]
  },
  {
   "cell_type": "code",
   "execution_count": 135,
   "metadata": {},
   "outputs": [],
   "source": [
    "# 5. В данных есть пропущенные значения — например, для некоторых пассажиров неизвестен их возраст.\n",
    "# Такие записи при чтении их в pandas принимают значение nan. Найдите все объекты, у которых есть пропущенные признаки,\n",
    "# и удалите их из выборки.\n",
    "\n",
    "data = data.dropna()"
   ]
  },
  {
   "cell_type": "code",
   "execution_count": 136,
   "metadata": {},
   "outputs": [],
   "source": [
    "# 2. Оставьте в выборке четыре признака: класс пассажира (Pclass), цену билета (Fare),\n",
    "# возраст пассажира (Age) и его пол (Sex).\n",
    "\n",
    "x_labels = ['Pclass', 'Fare', 'Age', 'Sex']\n",
    "X = data.loc[:, x_labels]"
   ]
  },
  {
   "cell_type": "code",
   "execution_count": 137,
   "metadata": {},
   "outputs": [],
   "source": [
    "# 3. Обратите внимание, что признак Sex имеет строковые значения.\n",
    "\n",
    "one_hot_data = pd.get_dummies(X)"
   ]
  },
  {
   "cell_type": "code",
   "execution_count": 138,
   "metadata": {},
   "outputs": [],
   "source": [
    "# 4. Выделите целевую переменную — она записана в столбце Survived.\n",
    "\n",
    "target = data['Survived']"
   ]
  },
  {
   "cell_type": "code",
   "execution_count": 139,
   "metadata": {},
   "outputs": [
    {
     "data": {
      "text/plain": [
       "DecisionTreeClassifier(class_weight=None, criterion='gini', max_depth=None,\n",
       "            max_features=None, max_leaf_nodes=None,\n",
       "            min_impurity_decrease=0.0, min_impurity_split=None,\n",
       "            min_samples_leaf=1, min_samples_split=2,\n",
       "            min_weight_fraction_leaf=0.0, presort=False, random_state=241,\n",
       "            splitter='best')"
      ]
     },
     "execution_count": 139,
     "metadata": {},
     "output_type": "execute_result"
    }
   ],
   "source": [
    "# 6. Обучите решающее дерево с параметром random_state=241 и остальными параметрами по умолчанию.\n",
    "\n",
    "clf = DecisionTreeClassifier(random_state=241)\n",
    "clf.fit(one_hot_data, target)"
   ]
  },
  {
   "cell_type": "code",
   "execution_count": 140,
   "metadata": {},
   "outputs": [
    {
     "name": "stdout",
     "output_type": "stream",
     "text": [
      "feature: Pclass, importance: 0.017933362369337985\n",
      "feature: Fare, importance: 0.2827785776778462\n",
      "feature: Age, importance: 0.4158191604312848\n",
      "feature: Sex_female, importance: 0.0\n",
      "feature: Sex_male, importance: 0.28346889952153104\n"
     ]
    }
   ],
   "source": [
    "# 7. Вычислите важности признаков и найдите два признака с наибольшей важностью.\n",
    "# Их названия будут ответами для данной задачи (в качестве ответа укажите названия признаков через запятую или пробел,\n",
    "# порядок не важен).\n",
    "\n",
    "for feat, importance in zip(one_hot_data.columns, clf.feature_importances_):\n",
    "    print('feature: {f}, importance: {i}'.format(f=feat, i=importance))"
   ]
  }
 ],
 "metadata": {
  "kernelspec": {
   "display_name": "Python 3",
   "language": "python",
   "name": "python3"
  },
  "language_info": {
   "codemirror_mode": {
    "name": "ipython",
    "version": 3
   },
   "file_extension": ".py",
   "mimetype": "text/x-python",
   "name": "python",
   "nbconvert_exporter": "python",
   "pygments_lexer": "ipython3",
   "version": "3.7.1"
  }
 },
 "nbformat": 4,
 "nbformat_minor": 2
}
