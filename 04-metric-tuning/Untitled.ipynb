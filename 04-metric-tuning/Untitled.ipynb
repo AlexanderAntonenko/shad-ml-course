{
 "cells": [
  {
   "cell_type": "code",
   "execution_count": 14,
   "metadata": {},
   "outputs": [],
   "source": [
    "# 1. Загрузите выборку Boston с помощью функции sklearn.datasets.load_boston(). Результатом вызова данной функции\n",
    "# является объект, у которого признаки записаны в поле data, а целевой вектор — в поле target.\n",
    "\n",
    "########import sklearn.datasets\n",
    "from sklearn.datasets import load_boston\n",
    "import pandas\n",
    "import sklearn\n",
    "from sklearn.model_selection import KFold, cross_val_score\n",
    "from sklearn.neighbors import KNeighborsRegressor\n",
    "data = load_boston()\n",
    "import numpy as np\n",
    "X = data.data\n",
    "y = data.target"
   ]
  },
  {
   "cell_type": "code",
   "execution_count": 15,
   "metadata": {},
   "outputs": [],
   "source": [
    "# 2. Приведите признаки в выборке к одному масштабу при помощи функции sklearn.preprocessing.scale.\n",
    "\n",
    "X = sklearn.preprocessing.scale(X)"
   ]
  },
  {
   "cell_type": "code",
   "execution_count": 45,
   "metadata": {},
   "outputs": [],
   "source": [
    "# 3. Переберите разные варианты параметра метрики p по сетке от 1 до 10 с таким шагом, чтобы всего было протестировано\n",
    "# 200 вариантов (используйте функцию numpy.linspace). Используйте KNeighborsRegressor с n_neighbors=5 и\n",
    "# weights='distance' — данный параметр добавляет в алгоритм веса, зависящие от расстояния до ближайших соседей.\n",
    "# В качестве метрики качества используйте среднеквадратичную ошибку (параметр scoring='neg_mean_squared_error' у\n",
    "# cross_val_score). Качество оценивайте, как и в предыдущем задании, с помощью кросс-валидации по 5 блокам с\n",
    "# random_state = 42, не забудьте включить перемешивание выборки (shuffle=True).\n",
    "\n",
    "\n",
    "def test_accuracy(kf, X, y):\n",
    "    scores = list()\n",
    "    p_range = np.linspace(1, 10, 200)\n",
    "    for p in p_range:\n",
    "        model = KNeighborsRegressor(p=p, n_neighbors=5, weights='distance')\n",
    "        scores.append(cross_val_score(model, X, y, cv=kf, scoring='neg_mean_squared_error'))\n",
    "\n",
    "    return pandas.DataFrame(scores, p_range).max(axis=1).sort_values(ascending=False)\n",
    "\n",
    "\n",
    "kf = KFold(n_splits=5, shuffle=True, random_state=42)\n",
    "accuracy = test_accuracy(kf, X, y)"
   ]
  },
  {
   "cell_type": "code",
   "execution_count": 47,
   "metadata": {},
   "outputs": [
    {
     "name": "stdout",
     "output_type": "stream",
     "text": [
      "1 1.0\n"
     ]
    }
   ],
   "source": [
    "# 4. Определите, при каком p качество на кросс-валидации оказалось оптимальным (обратите внимание,\n",
    "# что показатели качества, которые подсчитывает cross_val_score, необходимо максимизировать).\n",
    "# Это значение параметра и будет ответом на задачу.\n",
    "\n",
    "top_accuracy = accuracy.head(1)\n",
    "print(1, top_accuracy.index[0])"
   ]
  }
 ],
 "metadata": {
  "kernelspec": {
   "display_name": "Python 3",
   "language": "python",
   "name": "python3"
  },
  "language_info": {
   "codemirror_mode": {
    "name": "ipython",
    "version": 3
   },
   "file_extension": ".py",
   "mimetype": "text/x-python",
   "name": "python",
   "nbconvert_exporter": "python",
   "pygments_lexer": "ipython3",
   "version": "3.7.1"
  }
 },
 "nbformat": 4,
 "nbformat_minor": 2
}
