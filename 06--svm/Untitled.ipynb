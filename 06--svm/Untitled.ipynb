{
 "cells": [
  {
   "cell_type": "code",
   "execution_count": 2,
   "metadata": {},
   "outputs": [],
   "source": [
    "import pandas\n",
    "from sklearn.svm import SVC"
   ]
  },
  {
   "cell_type": "code",
   "execution_count": 3,
   "metadata": {},
   "outputs": [],
   "source": [
    "# 1. Загрузите выборку из файла svm-data.csv. В нем записана двумерная выборка (целевая переменная указана\n",
    "# в первом столбце, признаки — во втором и третьем).\n",
    "\n",
    "df = pandas.read_csv('svm-data.csv', header=None)\n",
    "y = df[0]\n",
    "X = df.loc[:, 1:]"
   ]
  },
  {
   "cell_type": "code",
   "execution_count": 4,
   "metadata": {
    "collapsed": true
   },
   "outputs": [
    {
     "data": {
      "text/plain": [
       "SVC(C=100000, cache_size=200, class_weight=None, coef0=0.0,\n",
       "  decision_function_shape='ovr', degree=3, gamma='auto_deprecated',\n",
       "  kernel='linear', max_iter=-1, probability=False, random_state=241,\n",
       "  shrinking=True, tol=0.001, verbose=False)"
      ]
     },
     "execution_count": 4,
     "metadata": {},
     "output_type": "execute_result"
    }
   ],
   "source": [
    "\n",
    "# 2. Обучите классификатор с линейным ядром, параметром C = 100000 и random_state=241.\n",
    "# Такое значение параметра нужно использовать, чтобы убедиться, что SVM работает с выборкой как с линейно разделимой.\n",
    "# При более низких значениях параметра алгоритм будет настраиваться с учетом слагаемого в функционале,\n",
    "# штрафующего за маленькие отступы, из-за чего результат может не совпасть с решением классической задачи SVM для\n",
    "# линейно разделимой выборки.\n",
    "\n",
    "model = SVC(kernel='linear', C=100000, random_state=241)\n",
    "model.fit(X, y)"
   ]
  },
  {
   "cell_type": "code",
   "execution_count": 5,
   "metadata": {},
   "outputs": [
    {
     "name": "stdout",
     "output_type": "stream",
     "text": [
      "4 5 10\n"
     ]
    }
   ],
   "source": [
    "# 3. Найдите номера объектов, которые являются опорными (нумерация с единицы). Они будут являться ответом на задание.\n",
    "# Обратите внимание, что в качестве ответа нужно привести номера объектов в возрастающем порядке через\n",
    "# запятую или пробел. Нумерация начинается с 1.\n",
    "\n",
    "n_sv = model.support_\n",
    "n_sv.sort()\n",
    "print(' '.join([str(n + 1) for n in n_sv]))"
   ]
  }
 ],
 "metadata": {
  "kernelspec": {
   "display_name": "Python 3",
   "language": "python",
   "name": "python3"
  },
  "language_info": {
   "codemirror_mode": {
    "name": "ipython",
    "version": 3
   },
   "file_extension": ".py",
   "mimetype": "text/x-python",
   "name": "python",
   "nbconvert_exporter": "python",
   "pygments_lexer": "ipython3",
   "version": "3.7.1"
  }
 },
 "nbformat": 4,
 "nbformat_minor": 2
}
