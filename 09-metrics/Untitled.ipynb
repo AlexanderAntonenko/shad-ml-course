{
 "cells": [
  {
   "cell_type": "code",
   "execution_count": 26,
   "metadata": {},
   "outputs": [],
   "source": [
    "import pandas\n",
    "import sklearn.metrics as metrics\n",
    "\n",
    "# 1. Загрузите файл classification.csv. В нем записаны истинные классы объектов выборки (колонка true) и ответы\n",
    "# некоторого классификатора (колонка predicted).\n",
    "\n",
    "df = pandas.read_csv('classification.csv').fillna(0)"
   ]
  },
  {
   "cell_type": "code",
   "execution_count": 27,
   "metadata": {},
   "outputs": [
    {
     "name": "stdout",
     "output_type": "stream",
     "text": [
      "43 34 59 64\n"
     ]
    }
   ],
   "source": [
    "\n",
    "# 2. Заполните таблицу ошибок классификации. Для этого подсчитайте величины TP, FP, FN и TN согласно их определениям.\n",
    "# Например, FP — это количество объектов, имеющих класс 0, но отнесенных алгоритмом к классу 1.\n",
    "# Ответ в данном вопросе — четыре числа через пробел.\n",
    "\n",
    "clf_table = {'tp': (1, 1), 'fp': (0, 1), 'fn': (1, 0), 'tn': (0, 0)}\n",
    "for name, res in clf_table.items():\n",
    "    clf_table[name] = len(df[(df['true'] == res[0]) & (df['pred'] == res[1])])\n",
    "\n",
    "print('{tp} {fp} {fn} {tn}'.format(**clf_table))"
   ]
  },
  {
   "cell_type": "code",
   "execution_count": 30,
   "metadata": {},
   "outputs": [
    {
     "name": "stdout",
     "output_type": "stream",
     "text": [
      "0.54 0.56 0.42 0.48\n"
     ]
    }
   ],
   "source": [
    "# 3. Посчитайте основные метрики качества классификатора:\n",
    "\n",
    "# Accuracy (доля верно угаданных) — sklearn.metrics.accuracy_score\n",
    "acc = metrics.accuracy_score(df['true'], df['pred'])\n",
    "\n",
    "# Precision (точность) — sklearn.metrics.precision_score\n",
    "pr = metrics.precision_score(df['true'], df['pred'])\n",
    "\n",
    "# Recall (полнота) — sklearn.metrics.recall_score\n",
    "rec = metrics.recall_score(df['true'], df['pred'])\n",
    "\n",
    "# F-мера — sklearn.metrics.f1_score\n",
    "f1 = metrics.f1_score(df['true'], df['pred'])\n",
    "\n",
    "# В качестве ответа укажите эти четыре числа через пробел.\n",
    "print('{:0.2f} {:0.2f} {:0.2f} {:0.2f}'.format(acc, pr, rec, f1))"
   ]
  },
  {
   "cell_type": "code",
   "execution_count": 31,
   "metadata": {},
   "outputs": [],
   "source": [
    "\n",
    "# 4. Имеется четыре обученных классификатора. В файле scores.csv записаны истинные классы и значения степени\n",
    "# принадлежности положительному классу для каждого классификатора на некоторой выборке:\n",
    "# для логистической регрессии — вероятность положительного класса (колонка score_logreg),\n",
    "# для SVM — отступ от разделяющей поверхности (колонка score_svm),\n",
    "# для метрического алгоритма — взвешенная сумма классов соседей (колонка score_knn),\n",
    "# для решающего дерева — доля положительных объектов в листе (колонка score_tree).\n",
    "# Загрузите этот файл.\n",
    "\n",
    "df2 = pandas.read_csv('scores.csv')"
   ]
  },
  {
   "cell_type": "code",
   "execution_count": 32,
   "metadata": {},
   "outputs": [
    {
     "name": "stdout",
     "output_type": "stream",
     "text": [
      "score_logreg\n"
     ]
    }
   ],
   "source": [
    "# 5. Посчитайте площадь под ROC-кривой для каждого классификатора. Какой классификатор имеет наибольшее значение\n",
    "# метрики AUC-ROC (укажите название столбца с ответами этого классификатора)?\n",
    "# Воспользуйтесь функцией sklearn.metrics.roc_auc_score.\n",
    "\n",
    "scores = {}\n",
    "for clf in df2.columns[1:]:\n",
    "    scores[clf] = metrics.roc_auc_score(df2['true'], df2[clf])\n",
    "\n",
    "print(pandas.Series(scores).sort_values(ascending=False).head(1).index[0])"
   ]
  },
  {
   "cell_type": "code",
   "execution_count": 33,
   "metadata": {},
   "outputs": [
    {
     "name": "stdout",
     "output_type": "stream",
     "text": [
      "score_tree\n"
     ]
    }
   ],
   "source": [
    "# 6. Какой классификатор достигает наибольшей точности (Precision) при полноте (Recall) не менее 70% ?\n",
    "# Какое значение точности при этом получается? Чтобы получить ответ на этот вопрос, найдите все точки\n",
    "# precision-recall-кривой с помощью функции sklearn.metrics.precision_recall_curve. Она возвращает три массива:\n",
    "# precision, recall, thresholds. В них записаны точность и полнота при определенных порогах,указанных в массиве\n",
    "# thresholds. Найдите максимальной значение точности среди тех записей, для которых полнота не меньше, чем 0.7.\n",
    "\n",
    "pr_scores = {}\n",
    "for clf in df2.columns[1:]:\n",
    "    pr_curve = metrics.precision_recall_curve(df2['true'], df2[clf])\n",
    "    pr_curve_df = pandas.DataFrame({'precision': pr_curve[0], 'recall': pr_curve[1]})\n",
    "    pr_scores[clf] = pr_curve_df[pr_curve_df['recall'] >= 0.7]['precision'].max()\n",
    "\n",
    "print(pandas.Series(pr_scores).sort_values(ascending=False).head(1).index[0])"
   ]
  }
 ],
 "metadata": {
  "kernelspec": {
   "display_name": "Python 3",
   "language": "python",
   "name": "python3"
  },
  "language_info": {
   "codemirror_mode": {
    "name": "ipython",
    "version": 3
   },
   "file_extension": ".py",
   "mimetype": "text/x-python",
   "name": "python",
   "nbconvert_exporter": "python",
   "pygments_lexer": "ipython3",
   "version": "3.7.1"
  }
 },
 "nbformat": 4,
 "nbformat_minor": 2
}
