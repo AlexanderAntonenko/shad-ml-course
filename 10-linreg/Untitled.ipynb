{
 "cells": [
  {
   "cell_type": "code",
   "execution_count": 50,
   "metadata": {},
   "outputs": [],
   "source": [
    "import pandas as pd\n",
    "from sklearn.feature_extraction.text import TfidfVectorizer\n",
    "from sklearn.feature_extraction import DictVectorizer\n",
    "from sklearn.linear_model import Ridge\n",
    "from scipy.sparse import hstack\n",
    "\n",
    "# 1. Загрузите данные об описаниях вакансий и соответствующих годовых зарплатах из файла salary-train.csv.\n",
    "\n",
    "train = pd.read_csv('salary-train.zip')"
   ]
  },
  {
   "cell_type": "code",
   "execution_count": 51,
   "metadata": {},
   "outputs": [],
   "source": [
    "# 2. Проведите предобработку:\n",
    "\n",
    "def text_transform(text):\n",
    "    # Приведите тексты к нижнему регистру (text.lower()).\n",
    "    text = text.map(lambda t: t.lower())\n",
    "\n",
    "    # Замените все, кроме букв и цифр, на пробелы — это облегчит дальнейшее разделение текста на слова. Для такой\n",
    "    # замены в строке text подходит следующий вызов: re.sub('[^a-zA-Z0-9]', ' ', text). Также можно воспользоваться\n",
    "    # методом replace у DataFrame, чтобы сразу преобразовать все тексты:\n",
    "    text = text.replace('[^a-zA-Z0-9]', ' ', regex=True)\n",
    "    return text\n",
    "\n",
    "# Примените TfidfVectorizer для преобразования текстов в векторы признаков. Оставьте только те слова,\n",
    "# которые встречаются хотя бы в 5 объектах (параметр min_df у TfidfVectorizer).\n",
    "\n",
    "vec = TfidfVectorizer(min_df=5)\n",
    "X_train_text = vec.fit_transform(text_transform(train['FullDescription']))\n",
    "\n",
    "# Замените пропуски в столбцах LocationNormalized и ContractTime на специальную строку 'nan'.\n",
    "\n",
    "train['LocationNormalized'].fillna('nan', inplace=True)\n",
    "train['ContractTime'].fillna('nan', inplace=True)\n",
    "\n",
    "# Примените DictVectorizer для получения one-hot-кодирования признаков LocationNormalized и ContractTime.\n",
    "\n",
    "enc = DictVectorizer()\n",
    "X_train_cat = enc.fit_transform(train[['LocationNormalized', 'ContractTime']].to_dict('records'))\n",
    "\n",
    "# Объедините все полученные признаки в одну матрицу \"объекты-признаки\". Обратите внимание, что матрицы для текстов и\n",
    "# категориальных признаков являются разреженными. Для объединения их столбцов нужно воспользоваться функцией\n",
    "# scipy.sparse.hstack.\n",
    "\n",
    "X_train = hstack([X_train_text, X_train_cat])"
   ]
  },
  {
   "cell_type": "code",
   "execution_count": 54,
   "metadata": {},
   "outputs": [
    {
     "data": {
      "text/plain": [
       "Ridge(alpha=1, copy_X=True, fit_intercept=True, max_iter=None,\n",
       "   normalize=False, random_state=241, solver='auto', tol=0.001)"
      ]
     },
     "execution_count": 54,
     "metadata": {},
     "output_type": "execute_result"
    }
   ],
   "source": [
    "# 3. Обучите гребневую регрессию с параметром alpha=1. Целевая переменная записана в столбце SalaryNormalized.\n",
    "\n",
    "y_train = train['SalaryNormalized']\n",
    "model = Ridge(alpha=1)\n",
    "model.fit(X_train, y_train)"
   ]
  },
  {
   "cell_type": "code",
   "execution_count": 55,
   "metadata": {},
   "outputs": [
    {
     "name": "stdout",
     "output_type": "stream",
     "text": [
      "51875.90 29705.44\n"
     ]
    }
   ],
   "source": [
    "# 4. Постройте прогнозы для двух примеров из файла salary-test-mini.csv. Значения полученных прогнозов являются\n",
    "# ответом на задание. Укажите их через пробел.\n",
    "\n",
    "test = pd.read_csv('salary-test-mini.csv')\n",
    "X_test_text = vec.transform(text_transform(test['FullDescription']))\n",
    "X_test_cat = enc.transform(test[['LocationNormalized', 'ContractTime']].to_dict('records'))\n",
    "X_test = hstack([X_test_text, X_test_cat])\n",
    "\n",
    "y_test = model.predict(X_test)\n",
    "print('{:0.2f} {:0.2f}'.format(y_test[0], y_test[1]))"
   ]
  }
 ],
 "metadata": {
  "kernelspec": {
   "display_name": "Python 3",
   "language": "python",
   "name": "python3"
  },
  "language_info": {
   "codemirror_mode": {
    "name": "ipython",
    "version": 3
   },
   "file_extension": ".py",
   "mimetype": "text/x-python",
   "name": "python",
   "nbconvert_exporter": "python",
   "pygments_lexer": "ipython3",
   "version": "3.7.1"
  }
 },
 "nbformat": 4,
 "nbformat_minor": 2
}
