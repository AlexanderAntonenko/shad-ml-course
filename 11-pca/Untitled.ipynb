{
 "cells": [
  {
   "cell_type": "code",
   "execution_count": 1,
   "metadata": {},
   "outputs": [],
   "source": [
    "import pandas\n",
    "from sklearn.decomposition import PCA\n",
    "from numpy import corrcoef\n",
    "\n",
    "# 1. Загрузите данные close_prices.csv. В этом файле приведены цены акций 30 компаний на закрытии торгов за каждый\n",
    "# день периода.\n",
    "\n",
    "df = pandas.read_csv('close_prices.csv')\n",
    "X = df.loc[:, 'AXP':]"
   ]
  },
  {
   "cell_type": "code",
   "execution_count": 6,
   "metadata": {},
   "outputs": [
    {
     "name": "stdout",
     "output_type": "stream",
     "text": [
      "4\n"
     ]
    }
   ],
   "source": [
    "# 2. На загруженных данных обучите преобразование PCA с числом компоненты равным 10. Скольких компонент хватит,\n",
    "# чтобы объяснить 90% дисперсии?\n",
    "\n",
    "pca = PCA(n_components=10)\n",
    "pca.fit(X.values)\n",
    "\n",
    "var = 0\n",
    "n_var = 0\n",
    "for v in pca.explained_variance_ratio_:\n",
    "    n_var += 1\n",
    "    var += v\n",
    "    if var >= 0.9:\n",
    "        break\n",
    "\n",
    "print(n_var)"
   ]
  },
  {
   "cell_type": "code",
   "execution_count": 7,
   "metadata": {},
   "outputs": [],
   "source": [
    "# 3. Примените построенное преобразование к исходным данным и возьмите значения первой компоненты.\n",
    "\n",
    "df_comp = pandas.DataFrame(pca.transform(X))\n",
    "comp0 = df_comp[0]"
   ]
  },
  {
   "cell_type": "code",
   "execution_count": 8,
   "metadata": {},
   "outputs": [
    {
     "name": "stdout",
     "output_type": "stream",
     "text": [
      "0.9096522193050238\n"
     ]
    }
   ],
   "source": [
    "# 4. Загрузите информацию об индексе Доу-Джонса из файла djia_index.csv. Чему равна корреляция Пирсона между первой\n",
    "# компонентой и индексом Доу-Джонса?\n",
    "\n",
    "df2 = pandas.read_csv('djia_index.csv')\n",
    "dji = df2['^DJI']\n",
    "corr = corrcoef(comp0, dji)\n",
    "print(corr[1, 0])"
   ]
  },
  {
   "cell_type": "code",
   "execution_count": 9,
   "metadata": {},
   "outputs": [
    {
     "name": "stdout",
     "output_type": "stream",
     "text": [
      "V\n"
     ]
    }
   ],
   "source": [
    "# 5. Какая компания имеет наибольший вес в первой компоненте? Укажите ее название с большой буквы.\n",
    "\n",
    "comp0_w = pandas.Series(pca.components_[0])\n",
    "comp0_w_top = comp0_w.sort_values(ascending=False).head(1).index[0]\n",
    "company = X.columns[comp0_w_top]\n",
    "print(company)"
   ]
  }
 ],
 "metadata": {
  "kernelspec": {
   "display_name": "Python 3",
   "language": "python",
   "name": "python3"
  },
  "language_info": {
   "codemirror_mode": {
    "name": "ipython",
    "version": 3
   },
   "file_extension": ".py",
   "mimetype": "text/x-python",
   "name": "python",
   "nbconvert_exporter": "python",
   "pygments_lexer": "ipython3",
   "version": "3.7.1"
  }
 },
 "nbformat": 4,
 "nbformat_minor": 2
}
