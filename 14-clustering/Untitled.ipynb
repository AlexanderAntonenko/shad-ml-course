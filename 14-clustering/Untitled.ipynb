{
 "cells": [
  {
   "cell_type": "code",
   "execution_count": 1,
   "metadata": {},
   "outputs": [],
   "source": [
    "import math\n",
    "import pandas\n",
    "import numpy as np\n",
    "from skimage import img_as_float\n",
    "from skimage.io import imread, imsave\n",
    "from sklearn.cluster import KMeans\n",
    "\n",
    "# 1. Загрузите картинку parrots.jpg. Преобразуйте изображение, приведя все значения в интервал от 0 до 1.\n",
    "# Для этого можно воспользоваться функцией img_as_float из модуля skimage.\n",
    "\n",
    "image = img_as_float(imread('parrots.jpg'))\n",
    "w, h, d = image.shape"
   ]
  },
  {
   "cell_type": "code",
   "execution_count": 2,
   "metadata": {},
   "outputs": [],
   "source": [
    "# 2. Создайте матрицу объекты-признаки: характеризуйте каждый пиксель тремя координатами - значениями интенсивности\n",
    "# в пространстве RGB.\n",
    "\n",
    "pixels = pandas.DataFrame(np.reshape(image, (w*h, d)), columns=['R', 'G', 'B'])"
   ]
  },
  {
   "cell_type": "code",
   "execution_count": 3,
   "metadata": {},
   "outputs": [],
   "source": [
    "# 3. Запустите алгоритм K-Means с параметрами init='k-means++' и random_state=241. После выделения кластеров все\n",
    "# пиксели, отнесенные в один кластер, попробуйте заполнить двумя способами: медианным и средним цветом по кластеру.\n",
    "\n",
    "def cluster(pixels, n_clusters=8):\n",
    "    print('Clustering: {}'.format(str(n_clusters)))\n",
    "\n",
    "    pixels = pixels.copy()\n",
    "    model = KMeans(n_clusters=n_clusters, init='k-means++', random_state=241)\n",
    "    pixels['cluster'] = model.fit_predict(pixels)\n",
    "\n",
    "    means = pixels.groupby('cluster').mean().values\n",
    "    mean_pixels = [means[c] for c in pixels['cluster'].values]\n",
    "    mean_image = np.reshape(mean_pixels, (w, h, d))\n",
    "    imsave('images/mean/parrots_' + str(n_clusters) + '.jpg', mean_image)\n",
    "\n",
    "    medians = pixels.groupby('cluster').median().values\n",
    "    median_pixels = [medians[c] for c in pixels['cluster'].values]\n",
    "    median_image = np.reshape(median_pixels, (w, h, d))\n",
    "    imsave('images/median/parrots_' + str(n_clusters) + '.jpg', median_image)\n",
    "\n",
    "    return mean_image, median_image"
   ]
  },
  {
   "cell_type": "code",
   "execution_count": 4,
   "metadata": {},
   "outputs": [],
   "source": [
    "# 4. Измерьте качество получившейся сегментации с помощью метрики PSNR. Эту метрику нужно реализовать\n",
    "# самостоятельно (см. определение).\n",
    "\n",
    "\n",
    "def psnr(image1, image2):\n",
    "    mse = np.mean((image1 - image2) ** 2)\n",
    "    return 10 * math.log10(float(1) / mse)"
   ]
  },
  {
   "cell_type": "code",
   "execution_count": 5,
   "metadata": {},
   "outputs": [
    {
     "name": "stdout",
     "output_type": "stream",
     "text": [
      "Clustering: 1\n"
     ]
    },
    {
     "name": "stderr",
     "output_type": "stream",
     "text": [
      "D:\\ANACONDA\\lib\\site-packages\\skimage\\io\\_io.py:140: UserWarning: images/mean/parrots_1.jpg is a low contrast image\n",
      "  warn('%s is a low contrast image' % fname)\n",
      "D:\\ANACONDA\\lib\\site-packages\\skimage\\util\\dtype.py:141: UserWarning: Possible precision loss when converting from float64 to uint8\n",
      "  .format(dtypeobj_in, dtypeobj_out))\n",
      "D:\\ANACONDA\\lib\\site-packages\\skimage\\io\\_io.py:140: UserWarning: images/median/parrots_1.jpg is a low contrast image\n",
      "  warn('%s is a low contrast image' % fname)\n"
     ]
    },
    {
     "name": "stdout",
     "output_type": "stream",
     "text": [
      "9.866444484956007 9.503496928816002\n",
      "Clustering: 2\n"
     ]
    },
    {
     "name": "stderr",
     "output_type": "stream",
     "text": [
      "D:\\ANACONDA\\lib\\site-packages\\skimage\\util\\dtype.py:141: UserWarning: Possible precision loss when converting from float64 to uint8\n",
      "  .format(dtypeobj_in, dtypeobj_out))\n"
     ]
    },
    {
     "name": "stdout",
     "output_type": "stream",
     "text": [
      "12.145066235051845 11.722015723732774\n",
      "Clustering: 3\n"
     ]
    },
    {
     "name": "stderr",
     "output_type": "stream",
     "text": [
      "D:\\ANACONDA\\lib\\site-packages\\skimage\\util\\dtype.py:141: UserWarning: Possible precision loss when converting from float64 to uint8\n",
      "  .format(dtypeobj_in, dtypeobj_out))\n"
     ]
    },
    {
     "name": "stdout",
     "output_type": "stream",
     "text": [
      "13.208147194858595 12.688439208922432\n",
      "Clustering: 4\n"
     ]
    },
    {
     "name": "stderr",
     "output_type": "stream",
     "text": [
      "D:\\ANACONDA\\lib\\site-packages\\skimage\\util\\dtype.py:141: UserWarning: Possible precision loss when converting from float64 to uint8\n",
      "  .format(dtypeobj_in, dtypeobj_out))\n"
     ]
    },
    {
     "name": "stdout",
     "output_type": "stream",
     "text": [
      "14.41637031290048 14.053185656839775\n",
      "Clustering: 5\n"
     ]
    },
    {
     "name": "stderr",
     "output_type": "stream",
     "text": [
      "D:\\ANACONDA\\lib\\site-packages\\skimage\\util\\dtype.py:141: UserWarning: Possible precision loss when converting from float64 to uint8\n",
      "  .format(dtypeobj_in, dtypeobj_out))\n"
     ]
    },
    {
     "name": "stdout",
     "output_type": "stream",
     "text": [
      "15.590897391155137 15.25486300995161\n",
      "Clustering: 6\n"
     ]
    },
    {
     "name": "stderr",
     "output_type": "stream",
     "text": [
      "D:\\ANACONDA\\lib\\site-packages\\skimage\\util\\dtype.py:141: UserWarning: Possible precision loss when converting from float64 to uint8\n",
      "  .format(dtypeobj_in, dtypeobj_out))\n"
     ]
    },
    {
     "name": "stdout",
     "output_type": "stream",
     "text": [
      "16.606672141281532 16.11594987284873\n",
      "Clustering: 7\n"
     ]
    },
    {
     "name": "stderr",
     "output_type": "stream",
     "text": [
      "D:\\ANACONDA\\lib\\site-packages\\skimage\\util\\dtype.py:141: UserWarning: Possible precision loss when converting from float64 to uint8\n",
      "  .format(dtypeobj_in, dtypeobj_out))\n"
     ]
    },
    {
     "name": "stdout",
     "output_type": "stream",
     "text": [
      "17.698999042513783 17.399408391222035\n",
      "Clustering: 8\n"
     ]
    },
    {
     "name": "stderr",
     "output_type": "stream",
     "text": [
      "D:\\ANACONDA\\lib\\site-packages\\skimage\\util\\dtype.py:141: UserWarning: Possible precision loss when converting from float64 to uint8\n",
      "  .format(dtypeobj_in, dtypeobj_out))\n"
     ]
    },
    {
     "name": "stdout",
     "output_type": "stream",
     "text": [
      "18.484638841200116 18.18352651043233\n",
      "Clustering: 9\n"
     ]
    },
    {
     "name": "stderr",
     "output_type": "stream",
     "text": [
      "D:\\ANACONDA\\lib\\site-packages\\skimage\\util\\dtype.py:141: UserWarning: Possible precision loss when converting from float64 to uint8\n",
      "  .format(dtypeobj_in, dtypeobj_out))\n"
     ]
    },
    {
     "name": "stdout",
     "output_type": "stream",
     "text": [
      "19.166906963017418 18.879476945682665\n",
      "Clustering: 10\n"
     ]
    },
    {
     "name": "stderr",
     "output_type": "stream",
     "text": [
      "D:\\ANACONDA\\lib\\site-packages\\skimage\\util\\dtype.py:141: UserWarning: Possible precision loss when converting from float64 to uint8\n",
      "  .format(dtypeobj_in, dtypeobj_out))\n"
     ]
    },
    {
     "name": "stdout",
     "output_type": "stream",
     "text": [
      "19.696840128399 19.470495715916737\n",
      "Clustering: 11\n"
     ]
    },
    {
     "name": "stderr",
     "output_type": "stream",
     "text": [
      "D:\\ANACONDA\\lib\\site-packages\\skimage\\util\\dtype.py:141: UserWarning: Possible precision loss when converting from float64 to uint8\n",
      "  .format(dtypeobj_in, dtypeobj_out))\n"
     ]
    },
    {
     "name": "stdout",
     "output_type": "stream",
     "text": [
      "20.183423214034132 19.903748580738537\n",
      "1 11\n"
     ]
    }
   ],
   "source": [
    "# 5. Найдите минимальное количество кластеров, при котором значение PSNR выше 20 (можно рассмотреть\n",
    "# не более 20кластеров). Это число и будет ответом в данной задаче.\n",
    "\n",
    "for n in range(1, 21):\n",
    "    mean_image, median_image = cluster(pixels, n)\n",
    "    psnr_mean, psnr_median = psnr(image, mean_image), psnr(image, median_image)\n",
    "    print(psnr_mean, psnr_median)\n",
    "\n",
    "    if psnr_mean > 20 or psnr_median > 20:\n",
    "        print(1, n)\n",
    "        break"
   ]
  }
 ],
 "metadata": {
  "kernelspec": {
   "display_name": "Python 3",
   "language": "python",
   "name": "python3"
  },
  "language_info": {
   "codemirror_mode": {
    "name": "ipython",
    "version": 3
   },
   "file_extension": ".py",
   "mimetype": "text/x-python",
   "name": "python",
   "nbconvert_exporter": "python",
   "pygments_lexer": "ipython3",
   "version": "3.7.1"
  }
 },
 "nbformat": 4,
 "nbformat_minor": 2
}
